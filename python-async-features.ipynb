{
 "cells": [
  {
   "cell_type": "markdown",
   "metadata": {},
   "source": [
    "# Getting Started With Async Features in Python\n",
    "> https://realpython.com/python-async-features/"
   ]
  },
  {
   "cell_type": "markdown",
   "metadata": {},
   "source": [
    "## Synchronous Programming"
   ]
  },
  {
   "cell_type": "code",
   "execution_count": 4,
   "metadata": {},
   "outputs": [],
   "source": [
    "import queue"
   ]
  },
  {
   "cell_type": "code",
   "execution_count": 2,
   "metadata": {},
   "outputs": [],
   "source": [
    "def task(name, work_queue):\n",
    "    if work_queue.empty():\n",
    "        print(f\"Task {name} nothing to do\")\n",
    "    else:\n",
    "        while not work_queue.empty():\n",
    "            count = work_queue.get()\n",
    "            total = 0\n",
    "            print(f\"Task {name} running\")\n",
    "            for x in range(count):\n",
    "                total += 1\n",
    "            print(f\"Task {name} total: {total}\")"
   ]
  },
  {
   "cell_type": "code",
   "execution_count": 5,
   "metadata": {},
   "outputs": [],
   "source": [
    "work_queue = queue.Queue()"
   ]
  },
  {
   "cell_type": "code",
   "execution_count": 6,
   "metadata": {},
   "outputs": [],
   "source": [
    "for work in [15, 10, 5, 2]:\n",
    "    work_queue.put(work)"
   ]
  },
  {
   "cell_type": "code",
   "execution_count": 7,
   "metadata": {},
   "outputs": [],
   "source": [
    "tasks = [(task, \"One\", work_queue), (task, \"Two\", work_queue)]"
   ]
  },
  {
   "cell_type": "code",
   "execution_count": 8,
   "metadata": {},
   "outputs": [
    {
     "name": "stdout",
     "output_type": "stream",
     "text": [
      "Task One running\n",
      "Task One total: 15\n",
      "Task One running\n",
      "Task One total: 10\n",
      "Task One running\n",
      "Task One total: 5\n",
      "Task One running\n",
      "Task One total: 2\n",
      "Task Two nothing to do\n"
     ]
    }
   ],
   "source": [
    "for t, n, q in tasks:\n",
    "    t(n,q)"
   ]
  },
  {
   "cell_type": "markdown",
   "metadata": {},
   "source": [
    "## Simple Cooperative Concurrency"
   ]
  },
  {
   "cell_type": "code",
   "execution_count": 9,
   "metadata": {},
   "outputs": [],
   "source": [
    "import queue"
   ]
  },
  {
   "cell_type": "code",
   "execution_count": 74,
   "metadata": {},
   "outputs": [],
   "source": [
    "def task(name, queue):\n",
    "    while not queue.empty():\n",
    "        count = queue.get()\n",
    "        total = 0\n",
    "        print(f\"Task {name} count: {count}\")\n",
    "        print(f\"Task {name} running\")\n",
    "        for x in range(count):\n",
    "            print(f\"Task {name} x: {x}\")\n",
    "            total += 1\n",
    "            yield\n",
    "        print(f\"Task {name} total: {total}\")"
   ]
  },
  {
   "cell_type": "code",
   "execution_count": 75,
   "metadata": {},
   "outputs": [],
   "source": [
    "work_queue = queue.Queue()"
   ]
  },
  {
   "cell_type": "code",
   "execution_count": 76,
   "metadata": {},
   "outputs": [],
   "source": [
    "for work in [15, 10, 5, 2]:\n",
    "    work_queue.put(work)"
   ]
  },
  {
   "cell_type": "code",
   "execution_count": 77,
   "metadata": {},
   "outputs": [],
   "source": [
    "tasks = [task(\"one\", work_queue), task(\"Two\", work_queue)]"
   ]
  },
  {
   "cell_type": "code",
   "execution_count": 78,
   "metadata": {},
   "outputs": [],
   "source": [
    "done = False"
   ]
  },
  {
   "cell_type": "code",
   "execution_count": 79,
   "metadata": {},
   "outputs": [
    {
     "name": "stdout",
     "output_type": "stream",
     "text": [
      "--while--\n",
      "---for--\n",
      "Task one count: 15\n",
      "Task one running\n",
      "Task one x: 0\n",
      "---for--\n",
      "Task Two count: 10\n",
      "Task Two running\n",
      "Task Two x: 0\n",
      "--while--\n",
      "---for--\n",
      "Task one x: 1\n",
      "---for--\n",
      "Task Two x: 1\n",
      "--while--\n",
      "---for--\n",
      "Task one x: 2\n",
      "---for--\n",
      "Task Two x: 2\n",
      "--while--\n",
      "---for--\n",
      "Task one x: 3\n",
      "---for--\n",
      "Task Two x: 3\n",
      "--while--\n",
      "---for--\n",
      "Task one x: 4\n",
      "---for--\n",
      "Task Two x: 4\n",
      "--while--\n",
      "---for--\n",
      "Task one x: 5\n",
      "---for--\n",
      "Task Two x: 5\n",
      "--while--\n",
      "---for--\n",
      "Task one x: 6\n",
      "---for--\n",
      "Task Two x: 6\n",
      "--while--\n",
      "---for--\n",
      "Task one x: 7\n",
      "---for--\n",
      "Task Two x: 7\n",
      "--while--\n",
      "---for--\n",
      "Task one x: 8\n",
      "---for--\n",
      "Task Two x: 8\n",
      "--while--\n",
      "---for--\n",
      "Task one x: 9\n",
      "---for--\n",
      "Task Two x: 9\n",
      "--while--\n",
      "---for--\n",
      "Task one x: 10\n",
      "---for--\n",
      "Task Two total: 10\n",
      "Task Two count: 5\n",
      "Task Two running\n",
      "Task Two x: 0\n",
      "--while--\n",
      "---for--\n",
      "Task one x: 11\n",
      "---for--\n",
      "Task Two x: 1\n",
      "--while--\n",
      "---for--\n",
      "Task one x: 12\n",
      "---for--\n",
      "Task Two x: 2\n",
      "--while--\n",
      "---for--\n",
      "Task one x: 13\n",
      "---for--\n",
      "Task Two x: 3\n",
      "--while--\n",
      "---for--\n",
      "Task one x: 14\n",
      "---for--\n",
      "Task Two x: 4\n",
      "--while--\n",
      "---for--\n",
      "Task one total: 15\n",
      "Task one count: 2\n",
      "Task one running\n",
      "Task one x: 0\n",
      "---for--\n",
      "Task Two total: 5\n",
      "except here\n",
      "--while--\n",
      "---for--\n",
      "Task one x: 1\n",
      "--while--\n",
      "---for--\n",
      "Task one total: 2\n",
      "except here\n"
     ]
    }
   ],
   "source": [
    "while not done:\n",
    "    print('--while--')\n",
    "    for t in tasks:\n",
    "        print('---for--')\n",
    "        try:\n",
    "            next(t)\n",
    "        except StopIteration:\n",
    "            print('except here')\n",
    "            tasks.remove(t)\n",
    "        if len(tasks) == 0:\n",
    "            done = True"
   ]
  },
  {
   "cell_type": "markdown",
   "metadata": {},
   "source": [
    "## Cooperative Concurrency With Blocking Calls"
   ]
  },
  {
   "cell_type": "code",
   "execution_count": 80,
   "metadata": {},
   "outputs": [],
   "source": [
    "import time\n",
    "import queue\n",
    "from codetiming import Timer"
   ]
  },
  {
   "cell_type": "code",
   "execution_count": 86,
   "metadata": {},
   "outputs": [],
   "source": [
    "def task(name, queue):\n",
    "    timer = Timer(text=f\"Task {name} elapsed time: {{:.1f}}\")\n",
    "    while not queue.empty():\n",
    "        delay = queue.get()\n",
    "        print(f\"Task {name} running\")\n",
    "        timer.start()\n",
    "        time.sleep(delay)\n",
    "        timer.stop()\n",
    "        yield"
   ]
  },
  {
   "cell_type": "code",
   "execution_count": 87,
   "metadata": {},
   "outputs": [],
   "source": [
    "work_queue = queue.Queue()"
   ]
  },
  {
   "cell_type": "code",
   "execution_count": 88,
   "metadata": {},
   "outputs": [],
   "source": [
    "for work in [15, 10, 5, 2]:\n",
    "    work_queue.put(work)"
   ]
  },
  {
   "cell_type": "code",
   "execution_count": 89,
   "metadata": {},
   "outputs": [],
   "source": [
    "tasks = [task(\"One\", work_queue), task(\"Two\", work_queue)]"
   ]
  },
  {
   "cell_type": "code",
   "execution_count": 90,
   "metadata": {},
   "outputs": [
    {
     "name": "stdout",
     "output_type": "stream",
     "text": [
      "Task One running\n",
      "Task One elapsed time: 15.0\n",
      "Task Two running\n",
      "Task Two elapsed time: 10.0\n",
      "Task One running\n",
      "Task One elapsed time: 5.0\n",
      "Task Two running\n",
      "Task Two elapsed time: 2.0\n",
      "\n",
      "Total elasped time: 32.0\n"
     ]
    }
   ],
   "source": [
    "done = False\n",
    "with Timer(text=\"\\nTotal elasped time: {:.1f}\"):\n",
    "    while not done:\n",
    "        for t in tasks:\n",
    "            try:\n",
    "                next(t)\n",
    "            except StopIteration:\n",
    "                tasks.remove(t)\n",
    "            if len(tasks) == 0:\n",
    "                done = True"
   ]
  },
  {
   "cell_type": "markdown",
   "metadata": {},
   "source": [
    "## Cooperative Concurrency With Non-Blocking Calls"
   ]
  },
  {
   "cell_type": "markdown",
   "metadata": {},
   "source": [
    "The event loop is at the heart of the Python async system. It runs all the code, including `main()`. When task code is executing, the CPU is busy doing work. When the `await` keyword is reached, a context switch occurs, and control passes back to the event loop. The event loop looks at all the tasks wating for an event and passes control to a task with an event that's ready."
   ]
  },
  {
   "cell_type": "code",
   "execution_count": 92,
   "metadata": {},
   "outputs": [],
   "source": [
    "import asyncio\n",
    "from codetiming import Timer"
   ]
  },
  {
   "cell_type": "code",
   "execution_count": 93,
   "metadata": {},
   "outputs": [],
   "source": [
    "async def task(name, work_queue):\n",
    "    timer = Timer(text=f\"Task {name} elasped time: {{:.1f}}\")\n",
    "    while not work_queue.empty():\n",
    "        delay = await work_queue.get()\n",
    "        print(f\"Task {name} running\")\n",
    "        timer.start()\n",
    "        await asyncio.sleep(delay)\n",
    "        timer.stop()"
   ]
  },
  {
   "cell_type": "code",
   "execution_count": 94,
   "metadata": {},
   "outputs": [],
   "source": [
    "async def main():\n",
    "    work_queue = asyncio.Queue()\n",
    "\n",
    "    for work in [15, 10, 5, 2]:\n",
    "        await work_queue.put(work)\n",
    "    \n",
    "    with Timer(text=\"\\nTotal elapsed time: {:.1f}\"):\n",
    "        await asyncio.gather(\n",
    "            asyncio.create_task(task(\"One\", work_queue)),\n",
    "            asyncio.create_task(task(\"Two\", work_queue)),\n",
    "        )"
   ]
  },
  {
   "cell_type": "code",
   "execution_count": 96,
   "metadata": {},
   "outputs": [
    {
     "name": "stdout",
     "output_type": "stream",
     "text": [
      "Task One running\n",
      "Task Two running\n",
      "Task Two elasped time: 10.0\n",
      "Task Two running\n",
      "Task One elasped time: 15.0\n",
      "Task One running\n",
      "Task Two elasped time: 5.0\n",
      "Task One elasped time: 2.0\n",
      "\n",
      "Total elapsed time: 17.0\n"
     ]
    }
   ],
   "source": [
    "await main()"
   ]
  },
  {
   "cell_type": "markdown",
   "metadata": {},
   "source": [
    "## Synchronous (Blocking) HTTP Calls"
   ]
  },
  {
   "cell_type": "code",
   "execution_count": 97,
   "metadata": {},
   "outputs": [],
   "source": [
    "import queue\n",
    "import requests\n",
    "from codetiming import Timer"
   ]
  },
  {
   "cell_type": "code",
   "execution_count": 98,
   "metadata": {},
   "outputs": [],
   "source": [
    "def task(name, work_queue):\n",
    "    timer = Timer(text=f\"Task {name} elasped time: {{:.1f}}\")\n",
    "    with requests.Session() as session:\n",
    "        while not work_queue.empty():\n",
    "            url = work_queue.get()\n",
    "            print(f\"Task {name} getting URL: {url}\")\n",
    "            timer.start()\n",
    "            session.get(url)\n",
    "            timer.stop()\n",
    "            yield"
   ]
  },
  {
   "cell_type": "code",
   "execution_count": 102,
   "metadata": {},
   "outputs": [],
   "source": [
    "def main():\n",
    "    work_queue = queue.Queue()\n",
    "\n",
    "    for url in [\n",
    "        \"http://google.com\",\n",
    "        \"http://yahoo.com\",\n",
    "        \"http://linkedin.com\",\n",
    "        \"http://apple.com\",\n",
    "        \"http://microsoft.com\",\n",
    "        \"http://facebook.com\",\n",
    "        \"http://twitter.com\",\n",
    "    ]:\n",
    "        work_queue.put(url)\n",
    "    \n",
    "    tasks = [task(\"One\", work_queue), task(\"Two\", work_queue)]\n",
    "\n",
    "    done = False\n",
    "    with Timer(text=\"\\nTotal elasped time: {:.1f}\"):\n",
    "        while not done:\n",
    "            for t in tasks:\n",
    "                try:\n",
    "                    next(t)\n",
    "                except StopIteration:\n",
    "                    tasks.remove(t)\n",
    "                if len(tasks) == 0:\n",
    "                    done = True"
   ]
  },
  {
   "cell_type": "code",
   "execution_count": 103,
   "metadata": {},
   "outputs": [
    {
     "name": "stdout",
     "output_type": "stream",
     "text": [
      "Task One getting URL: http://google.com\n",
      "Task One elasped time: 0.6\n",
      "Task Two getting URL: http://yahoo.com\n",
      "Task Two elasped time: 2.0\n",
      "Task One getting URL: http://linkedin.com\n",
      "Task One elasped time: 0.8\n",
      "Task Two getting URL: http://apple.com\n",
      "Task Two elasped time: 0.3\n",
      "Task One getting URL: http://microsoft.com\n",
      "Task One elasped time: 0.4\n",
      "Task Two getting URL: http://facebook.com\n",
      "Task Two elasped time: 2.2\n",
      "Task One getting URL: http://twitter.com\n",
      "Task One elasped time: 0.7\n",
      "\n",
      "Total elasped time: 7.1\n"
     ]
    }
   ],
   "source": [
    "main()"
   ]
  },
  {
   "cell_type": "markdown",
   "metadata": {},
   "source": [
    "## Asynchronous (Non-Blocking) HTTP Calls"
   ]
  },
  {
   "cell_type": "code",
   "execution_count": 105,
   "metadata": {},
   "outputs": [],
   "source": [
    "import asyncio\n",
    "import aiohttp\n",
    "from codetiming import Timer"
   ]
  },
  {
   "cell_type": "code",
   "execution_count": 110,
   "metadata": {},
   "outputs": [],
   "source": [
    "async def task(name, work_queue):\n",
    "    timer = Timer(text=f\"Task {name} elapsed time: {{:.1f}}\")\n",
    "    async with aiohttp.ClientSession() as session:\n",
    "        while not work_queue.empty():\n",
    "            url = await work_queue.get()\n",
    "            print(f\"Task {name} getting URL: {url}\")\n",
    "            timer.start()\n",
    "            async with session.get(url) as response:\n",
    "                await response.text()\n",
    "            timer.stop()"
   ]
  },
  {
   "cell_type": "code",
   "execution_count": 111,
   "metadata": {},
   "outputs": [],
   "source": [
    "async def main():\n",
    "    work_queue = asyncio.Queue()\n",
    "\n",
    "    for url in [\n",
    "        \"http://google.com\",\n",
    "        \"http://yahoo.com\",\n",
    "        \"http://linkedin.com\",\n",
    "        \"http://apple.com\",\n",
    "        \"http://microsoft.com\",\n",
    "        \"http://facebook.com\",\n",
    "        \"http://twitter.com\",\n",
    "    ]:\n",
    "        await work_queue.put(url)\n",
    "    \n",
    "    with Timer(text=\"\\nTotal elasped time: {:.1f}\"):\n",
    "        await asyncio.gather(\n",
    "            asyncio.create_task(task(\"One\", work_queue)),\n",
    "            asyncio.create_task(task(\"Two\", work_queue))\n",
    "        )"
   ]
  },
  {
   "cell_type": "code",
   "execution_count": 112,
   "metadata": {},
   "outputs": [
    {
     "name": "stdout",
     "output_type": "stream",
     "text": [
      "Task One getting URL: http://google.com\n",
      "Task Two getting URL: http://yahoo.com\n",
      "Task One elapsed time: 0.4\n",
      "Task One getting URL: http://linkedin.com\n",
      "Task One elapsed time: 2.5\n",
      "Task One getting URL: http://apple.com\n",
      "Task Two elapsed time: 2.9\n",
      "Task Two getting URL: http://microsoft.com\n",
      "Task One elapsed time: 0.4\n",
      "Task One getting URL: http://facebook.com\n",
      "Task Two elapsed time: 1.1\n",
      "Task Two getting URL: http://twitter.com\n",
      "Task Two elapsed time: 1.4\n",
      "Task One elapsed time: 3.3\n",
      "\n",
      "Total elasped time: 6.5\n"
     ]
    }
   ],
   "source": [
    "await main()"
   ]
  }
 ],
 "metadata": {
  "kernelspec": {
   "display_name": "Python 3",
   "language": "python",
   "name": "python3"
  },
  "language_info": {
   "codemirror_mode": {
    "name": "ipython",
    "version": 3
   },
   "file_extension": ".py",
   "mimetype": "text/x-python",
   "name": "python",
   "nbconvert_exporter": "python",
   "pygments_lexer": "ipython3",
   "version": "3.8.5"
  },
  "orig_nbformat": 2
 },
 "nbformat": 4,
 "nbformat_minor": 2
}